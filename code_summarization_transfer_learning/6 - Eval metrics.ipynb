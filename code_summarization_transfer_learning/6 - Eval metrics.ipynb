{
 "cells": [
  {
   "cell_type": "code",
   "execution_count": 1,
   "metadata": {
    "scrolled": true
   },
   "outputs": [
    {
     "name": "stderr",
     "output_type": "stream",
     "text": [
      "/opt/conda/lib/python3.6/importlib/_bootstrap.py:219: RuntimeWarning: numpy.dtype size changed, may indicate binary incompatibility. Expected 96, got 88\n",
      "  return f(*args, **kwds)\n",
      "/opt/conda/lib/python3.6/importlib/_bootstrap.py:219: RuntimeWarning: numpy.dtype size changed, may indicate binary incompatibility. Expected 96, got 88\n",
      "  return f(*args, **kwds)\n",
      "Using TensorFlow backend.\n",
      "/opt/conda/lib/python3.6/importlib/_bootstrap.py:219: RuntimeWarning: numpy.dtype size changed, may indicate binary incompatibility. Expected 96, got 88\n",
      "  return f(*args, **kwds)\n",
      "/opt/conda/lib/python3.6/importlib/_bootstrap.py:219: RuntimeWarning: numpy.ufunc size changed, may indicate binary incompatibility. Expected 192, got 176\n",
      "  return f(*args, **kwds)\n",
      "/opt/conda/lib/python3.6/site-packages/sklearn/ensemble/weight_boosting.py:29: DeprecationWarning: numpy.core.umath_tests is an internal NumPy module and should not be imported. It will be removed in a future NumPy release.\n",
      "  from numpy.core.umath_tests import inner1d\n",
      "/opt/conda/lib/python3.6/importlib/_bootstrap.py:219: RuntimeWarning: numpy.dtype size changed, may indicate binary incompatibility. Expected 96, got 88\n",
      "  return f(*args, **kwds)\n",
      "/opt/conda/lib/python3.6/importlib/_bootstrap.py:219: RuntimeWarning: numpy.ufunc size changed, may indicate binary incompatibility. Expected 192, got 176\n",
      "  return f(*args, **kwds)\n"
     ]
    }
   ],
   "source": [
    "from pathlib import Path\n",
    "import numpy as np\n",
    "import pandas as pd\n",
    "import torch\n",
    "import nmslib\n",
    "from lang_model_utils import load_lm_vocab, Query2Emb\n",
    "from general_utils import create_nmslib_search_index\n",
    "\n",
    "input_path = Path('./data/processed_data/')\n",
    "code2emb_path = Path('./data/code2emb/')\n",
    "output_path = Path('./data/search')\n",
    "output_path.mkdir(exist_ok=True)"
   ]
  },
  {
   "cell_type": "code",
   "execution_count": 5,
   "metadata": {},
   "outputs": [],
   "source": [
    "# load test data\n",
    "\n",
    "test_tokens = np.load('./data/seq2seq/test.tokens.npy')\n",
    "test_apiseq = np.load('./data/seq2seq/test.apiseq.npy')\n",
    "test_methname = np.load('./data/seq2seq/test.methname.npy')\n",
    "test_description = np.load('./data/seq2seq/test.desc.npy')"
   ]
  },
  {
   "cell_type": "code",
   "execution_count": 6,
   "metadata": {},
   "outputs": [
    {
     "data": {
      "text/plain": [
       "(179248, 55)"
      ]
     },
     "execution_count": 6,
     "metadata": {},
     "output_type": "execute_result"
    }
   ],
   "source": [
    "test_tokens.shape"
   ]
  },
  {
   "cell_type": "code",
   "execution_count": 7,
   "metadata": {},
   "outputs": [
    {
     "data": {
      "text/plain": [
       "(179248, 15)"
      ]
     },
     "execution_count": 7,
     "metadata": {},
     "output_type": "execute_result"
    }
   ],
   "source": [
    "test_description.shape"
   ]
  },
  {
   "cell_type": "code",
   "execution_count": 11,
   "metadata": {},
   "outputs": [],
   "source": [
    "test_description = np.load('./data/lang_model_emb/avg_emb_dim500_test_v2.npy')"
   ]
  },
  {
   "cell_type": "code",
   "execution_count": 12,
   "metadata": {},
   "outputs": [
    {
     "data": {
      "text/plain": [
       "(179248, 500)"
      ]
     },
     "execution_count": 12,
     "metadata": {},
     "output_type": "execute_result"
    }
   ],
   "source": [
    "test_description.shape"
   ]
  },
  {
   "cell_type": "code",
   "execution_count": 13,
   "metadata": {},
   "outputs": [],
   "source": [
    "rng = np.random.RandomState(42)\n",
    "validation_indices = np.random.choice(test_description.shape[0], replace=False, size=10000)"
   ]
  },
  {
   "cell_type": "code",
   "execution_count": 18,
   "metadata": {},
   "outputs": [],
   "source": [
    "from keras.models import load_model\n",
    "from pathlib import Path\n",
    "import numpy as np\n",
    "code2emb_path = Path('./data/code2emb/')\n",
    "code2emb_model = load_model(code2emb_path/'code2emb_model_concatenate_.hdf5')"
   ]
  },
  {
   "cell_type": "code",
   "execution_count": 24,
   "metadata": {},
   "outputs": [],
   "source": [
    "eval_code_vecs = code2emb_model.predict([test_tokens, test_apiseq, test_methname], batch_size=2048)"
   ]
  },
  {
   "cell_type": "code",
   "execution_count": 30,
   "metadata": {},
   "outputs": [],
   "source": [
    "search_index = create_nmslib_search_index(eval_code_vecs[validation_indices])"
   ]
  },
  {
   "cell_type": "code",
   "execution_count": 31,
   "metadata": {},
   "outputs": [],
   "source": [
    "eval_doc_vecs = test_description[validation_indices]"
   ]
  },
  {
   "cell_type": "code",
   "execution_count": 32,
   "metadata": {},
   "outputs": [],
   "source": [
    "import math\n",
    "def ACC(real, predict):\n",
    "        sum = 0.0\n",
    "        for val in real:\n",
    "            try:\n",
    "                index = predict.index(val)\n",
    "            except ValueError:\n",
    "                index = -1\n",
    "            if index != -1:\n",
    "                sum = sum + 1\n",
    "        return sum / float(len(real))\n",
    "\n",
    "def MAP(real, predict):\n",
    "    sum = 0.0\n",
    "    for id, val in enumerate(real):\n",
    "        try:\n",
    "            index = predict.index(val)\n",
    "        except ValueError:\n",
    "            index = -1\n",
    "        if index != -1:\n",
    "            sum = sum + (id + 1) / float(index + 1)\n",
    "    return sum / float(len(real))\n",
    "\n",
    "def MRR(real, predict):\n",
    "    sum = 0.0\n",
    "    for val in real:\n",
    "        try:\n",
    "            index = predict.index(val)\n",
    "        except ValueError:\n",
    "            index = -1\n",
    "        if index != -1:\n",
    "            sum = sum + 1.0 / float(index + 1)\n",
    "    return sum / float(len(real))\n",
    "\n",
    "def NDCG(real, predict):\n",
    "    dcg = 0.0\n",
    "    idcg = IDCG(len(real))\n",
    "    for i, predictItem in enumerate(predict):\n",
    "        if predictItem in real:\n",
    "            itemRelevance = 1\n",
    "            rank = i + 1\n",
    "            dcg += (math.pow(2, itemRelevance) - 1.0) * (math.log(2) / math.log(rank + 1))\n",
    "    return dcg / float(idcg)\n",
    "\n",
    "def IDCG(n):\n",
    "    idcg = 0\n",
    "    itemRelevance = 1\n",
    "    for i in range(n):\n",
    "        idcg += (math.pow(2, itemRelevance) - 1.0) * (math.log(2) / math.log(i + 2))\n",
    "    return idcg"
   ]
  },
  {
   "cell_type": "code",
   "execution_count": 33,
   "metadata": {},
   "outputs": [
    {
     "name": "stdout",
     "output_type": "stream",
     "text": [
      "ACC=0.4249, MRR=0.25163769841269834, MAP=0.25163769841269834, nDCG=0.2927080688249676\n"
     ]
    }
   ],
   "source": [
    "import torch.nn.functional as F\n",
    "\n",
    "accs, mrrs, maps, ndcgs = [], [], [], []\n",
    "for i in range(eval_doc_vecs.shape[0]):\n",
    "    doc_vec = eval_doc_vecs[i]\n",
    "    predict, dists = search_index.knnQuery(doc_vec, k=10)\n",
    "    real = [i]\n",
    "    predict = [int(k) for k in predict]\n",
    "    accs.append(ACC(real, predict))\n",
    "    mrrs.append(MRR(real, predict))\n",
    "    maps.append(MAP(real, predict))\n",
    "    ndcgs.append(NDCG(real, predict))\n",
    "print('ACC={}, MRR={}, MAP={}, nDCG={}'.format(np.mean(accs), np.mean(mrrs), np.mean(maps),\n",
    "                                                     np.mean(ndcgs)))"
   ]
  },
  {
   "cell_type": "code",
   "execution_count": null,
   "metadata": {},
   "outputs": [],
   "source": []
  }
 ],
 "metadata": {
  "kernelspec": {
   "display_name": "Python 3",
   "language": "python",
   "name": "python3"
  },
  "language_info": {
   "codemirror_mode": {
    "name": "ipython",
    "version": 3
   },
   "file_extension": ".py",
   "mimetype": "text/x-python",
   "name": "python",
   "nbconvert_exporter": "python",
   "pygments_lexer": "ipython3",
   "version": "3.6.3"
  }
 },
 "nbformat": 4,
 "nbformat_minor": 2
}
